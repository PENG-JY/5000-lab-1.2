{
 "cells": [
  {
   "cell_type": "markdown",
   "metadata": {},
   "source": [
    "---\n",
    "title: \"an Example of slides\"\n",
    "format:\n",
    "  revealjs:\n",
    "    theme: solarized\n",
    "    code-fold: true\n",
    "    transition: slide\n",
    "    slide-number: true\n",
    "    overview: true\n",
    "    bibliography: ../reference.bib\n",
    "\n",
    "author: \"Jiayi Peng\"\n",
    "bibliography: ../reference.bib\n",
    "---\n",
    "## Lorem ipsum\n",
    "\n",
    "Lorem ipsum odor amet, consectetuer adipiscing elit.\n",
    "\n",
    "## image1\n",
    "![](../images/image1.png)\n",
    "\n",
    "## image2\n",
    "![](../images/image3.png)\n"
   ]
  },
  {
   "cell_type": "markdown",
   "metadata": {},
   "source": [
    "## plot\n",
    "\n",
    "```{python}\n",
    "%matplotlib inline\n",
    "import matplotlib.pyplot as plt\n",
    "import numpy as np\n",
    "\n",
    "x = np.linspace(0, 10, 100)\n",
    "y = np.cos(x)\n",
    "\n",
    "plt.plot(x, y)\n",
    "plt.xlabel('x')\n",
    "plt.ylabel('y')\n",
    "plt.title('Simple Plot')\n",
    "plt.grid(True)\n",
    "plt.show()\n",
    "```\n"
   ]
  },
  {
   "cell_type": "markdown",
   "metadata": {},
   "source": [
    "## citation\n",
    "\n",
    "According to [@baltagi2008econometric]."
   ]
  }
 ],
 "metadata": {
  "kernelspec": {
   "display_name": "base",
   "language": "python",
   "name": "python3"
  },
  "language_info": {
   "codemirror_mode": {
    "name": "ipython",
    "version": 3
   },
   "file_extension": ".py",
   "mimetype": "text/x-python",
   "name": "python",
   "nbconvert_exporter": "python",
   "pygments_lexer": "ipython3",
   "version": "3.12.4"
  }
 },
 "nbformat": 4,
 "nbformat_minor": 2
}
